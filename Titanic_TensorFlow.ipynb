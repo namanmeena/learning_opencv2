{
  "nbformat": 4,
  "nbformat_minor": 0,
  "metadata": {
    "kernelspec": {
      "display_name": "Python 3",
      "language": "python",
      "name": "python3"
    },
    "language_info": {
      "codemirror_mode": {
        "name": "ipython",
        "version": 3
      },
      "file_extension": ".py",
      "mimetype": "text/x-python",
      "name": "python",
      "nbconvert_exporter": "python",
      "pygments_lexer": "ipython3",
      "version": "3.7.4"
    },
    "colab": {
      "name": "Titanic-TensorFlow.ipynb",
      "provenance": [],
      "collapsed_sections": [],
      "include_colab_link": true
    },
    "accelerator": "GPU"
  },
  "cells": [
    {
      "cell_type": "markdown",
      "metadata": {
        "id": "view-in-github",
        "colab_type": "text"
      },
      "source": [
        "<a href=\"https://colab.research.google.com/github/namanmeena/learning_opencv2/blob/master/Titanic_TensorFlow.ipynb\" target=\"_parent\"><img src=\"https://colab.research.google.com/assets/colab-badge.svg\" alt=\"Open In Colab\"/></a>"
      ]
    },
    {
      "cell_type": "markdown",
      "metadata": {
        "id": "FSOkYTj8Phuj",
        "colab_type": "text"
      },
      "source": [
        "# Titanic Survival Prediction using TensorFlow"
      ]
    },
    {
      "cell_type": "code",
      "metadata": {
        "id": "xt7-2lCrPlBw",
        "colab_type": "code",
        "colab": {
          "base_uri": "https://localhost:8080/",
          "height": 34
        },
        "outputId": "666202ac-5744-4ec2-b3b2-f12c5cedd66c"
      },
      "source": [
        "%%bash\n",
        "\n",
        "token='' # Put your token\n",
        "token_dir=\"/root/.kaggle\"\n",
        "competition=\"titanic\"\n",
        "dataset_path=\"kaggle_datasets\"\n",
        "competition_dataset_path=\"$dataset_path/$competition\"\n",
        "\n",
        "# Removing existing dir\n",
        "rm -rf $token_dir\n",
        "rm -rf $competition_dataset_path\n",
        "\n",
        "# Creating directories\n",
        "mkdir -p $token_dir\n",
        "mkdir -p $competition_dataset_path\n",
        "\n",
        "# Placing kaggle token\n",
        "echo $token > $token_dir/kaggle.json\n",
        "\n",
        "# Giving permission to token\n",
        "chmod 600 $token_dir/kaggle.json\n",
        "\n",
        "# Downloading dataset using kaggle\n",
        "kaggle competitions download -c $competition -p $competition_dataset_path"
      ],
      "execution_count": 29,
      "outputs": [
        {
          "output_type": "stream",
          "text": [
            "401 - Unauthorized\n"
          ],
          "name": "stdout"
        }
      ]
    },
    {
      "cell_type": "code",
      "metadata": {
        "id": "95pdMWvLPx0i",
        "colab_type": "code",
        "colab": {}
      },
      "source": [
        "_data_root = \"kaggle_datasets/titanic\"\n",
        "_data_filepath = f\"{_data_root}/train.csv\""
      ],
      "execution_count": 5,
      "outputs": []
    },
    {
      "cell_type": "code",
      "metadata": {
        "id": "Cp7qjG7lPhuk",
        "colab_type": "code",
        "colab": {}
      },
      "source": [
        "import tensorflow as tf\n",
        "from sklearn.model_selection import train_test_split\n",
        "from tensorflow.keras import layers\n",
        "import pandas as pd"
      ],
      "execution_count": 8,
      "outputs": []
    },
    {
      "cell_type": "code",
      "metadata": {
        "id": "lDOuoXuLPhun",
        "colab_type": "code",
        "colab": {
          "base_uri": "https://localhost:8080/",
          "height": 35
        },
        "outputId": "fee5be53-e7b9-4c5d-8776-813ae1911cd2"
      },
      "source": [
        "tf.__version__"
      ],
      "execution_count": 9,
      "outputs": [
        {
          "output_type": "execute_result",
          "data": {
            "application/vnd.google.colaboratory.intrinsic+json": {
              "type": "string"
            },
            "text/plain": [
              "'2.3.0'"
            ]
          },
          "metadata": {
            "tags": []
          },
          "execution_count": 9
        }
      ]
    },
    {
      "cell_type": "code",
      "metadata": {
        "id": "PyArF0I_Phut",
        "colab_type": "code",
        "colab": {
          "base_uri": "https://localhost:8080/",
          "height": 391
        },
        "outputId": "01bcc61a-cdc2-4c33-c844-d0406b624818"
      },
      "source": [
        "df = pd.read_csv(_data_filepath)\n",
        "df.head()"
      ],
      "execution_count": 10,
      "outputs": [
        {
          "output_type": "execute_result",
          "data": {
            "text/html": [
              "<div>\n",
              "<style scoped>\n",
              "    .dataframe tbody tr th:only-of-type {\n",
              "        vertical-align: middle;\n",
              "    }\n",
              "\n",
              "    .dataframe tbody tr th {\n",
              "        vertical-align: top;\n",
              "    }\n",
              "\n",
              "    .dataframe thead th {\n",
              "        text-align: right;\n",
              "    }\n",
              "</style>\n",
              "<table border=\"1\" class=\"dataframe\">\n",
              "  <thead>\n",
              "    <tr style=\"text-align: right;\">\n",
              "      <th></th>\n",
              "      <th>PassengerId</th>\n",
              "      <th>Survived</th>\n",
              "      <th>Pclass</th>\n",
              "      <th>Name</th>\n",
              "      <th>Sex</th>\n",
              "      <th>Age</th>\n",
              "      <th>SibSp</th>\n",
              "      <th>Parch</th>\n",
              "      <th>Ticket</th>\n",
              "      <th>Fare</th>\n",
              "      <th>Cabin</th>\n",
              "      <th>Embarked</th>\n",
              "    </tr>\n",
              "  </thead>\n",
              "  <tbody>\n",
              "    <tr>\n",
              "      <th>0</th>\n",
              "      <td>1</td>\n",
              "      <td>0</td>\n",
              "      <td>3</td>\n",
              "      <td>Braund, Mr. Owen Harris</td>\n",
              "      <td>male</td>\n",
              "      <td>22.0</td>\n",
              "      <td>1</td>\n",
              "      <td>0</td>\n",
              "      <td>A/5 21171</td>\n",
              "      <td>7.2500</td>\n",
              "      <td>NaN</td>\n",
              "      <td>S</td>\n",
              "    </tr>\n",
              "    <tr>\n",
              "      <th>1</th>\n",
              "      <td>2</td>\n",
              "      <td>1</td>\n",
              "      <td>1</td>\n",
              "      <td>Cumings, Mrs. John Bradley (Florence Briggs Th...</td>\n",
              "      <td>female</td>\n",
              "      <td>38.0</td>\n",
              "      <td>1</td>\n",
              "      <td>0</td>\n",
              "      <td>PC 17599</td>\n",
              "      <td>71.2833</td>\n",
              "      <td>C85</td>\n",
              "      <td>C</td>\n",
              "    </tr>\n",
              "    <tr>\n",
              "      <th>2</th>\n",
              "      <td>3</td>\n",
              "      <td>1</td>\n",
              "      <td>3</td>\n",
              "      <td>Heikkinen, Miss. Laina</td>\n",
              "      <td>female</td>\n",
              "      <td>26.0</td>\n",
              "      <td>0</td>\n",
              "      <td>0</td>\n",
              "      <td>STON/O2. 3101282</td>\n",
              "      <td>7.9250</td>\n",
              "      <td>NaN</td>\n",
              "      <td>S</td>\n",
              "    </tr>\n",
              "    <tr>\n",
              "      <th>3</th>\n",
              "      <td>4</td>\n",
              "      <td>1</td>\n",
              "      <td>1</td>\n",
              "      <td>Futrelle, Mrs. Jacques Heath (Lily May Peel)</td>\n",
              "      <td>female</td>\n",
              "      <td>35.0</td>\n",
              "      <td>1</td>\n",
              "      <td>0</td>\n",
              "      <td>113803</td>\n",
              "      <td>53.1000</td>\n",
              "      <td>C123</td>\n",
              "      <td>S</td>\n",
              "    </tr>\n",
              "    <tr>\n",
              "      <th>4</th>\n",
              "      <td>5</td>\n",
              "      <td>0</td>\n",
              "      <td>3</td>\n",
              "      <td>Allen, Mr. William Henry</td>\n",
              "      <td>male</td>\n",
              "      <td>35.0</td>\n",
              "      <td>0</td>\n",
              "      <td>0</td>\n",
              "      <td>373450</td>\n",
              "      <td>8.0500</td>\n",
              "      <td>NaN</td>\n",
              "      <td>S</td>\n",
              "    </tr>\n",
              "  </tbody>\n",
              "</table>\n",
              "</div>"
            ],
            "text/plain": [
              "   PassengerId  Survived  Pclass  ...     Fare Cabin  Embarked\n",
              "0            1         0       3  ...   7.2500   NaN         S\n",
              "1            2         1       1  ...  71.2833   C85         C\n",
              "2            3         1       3  ...   7.9250   NaN         S\n",
              "3            4         1       1  ...  53.1000  C123         S\n",
              "4            5         0       3  ...   8.0500   NaN         S\n",
              "\n",
              "[5 rows x 12 columns]"
            ]
          },
          "metadata": {
            "tags": []
          },
          "execution_count": 10
        }
      ]
    },
    {
      "cell_type": "code",
      "metadata": {
        "id": "TT_gH0dsPhuv",
        "colab_type": "code",
        "colab": {
          "base_uri": "https://localhost:8080/",
          "height": 34
        },
        "outputId": "27485821-df57-48c6-f5df-35287e6c41c2"
      },
      "source": [
        "len(df)"
      ],
      "execution_count": 11,
      "outputs": [
        {
          "output_type": "execute_result",
          "data": {
            "text/plain": [
              "891"
            ]
          },
          "metadata": {
            "tags": []
          },
          "execution_count": 11
        }
      ]
    },
    {
      "cell_type": "code",
      "metadata": {
        "id": "BCSrDTDlPhux",
        "colab_type": "code",
        "colab": {
          "base_uri": "https://localhost:8080/",
          "height": 34
        },
        "outputId": "6c89dad4-917b-4c11-dc76-ddb101e6ab18"
      },
      "source": [
        "df = df.dropna(subset=['Embarked'])\n",
        "len(df)"
      ],
      "execution_count": 12,
      "outputs": [
        {
          "output_type": "execute_result",
          "data": {
            "text/plain": [
              "889"
            ]
          },
          "metadata": {
            "tags": []
          },
          "execution_count": 12
        }
      ]
    },
    {
      "cell_type": "code",
      "metadata": {
        "id": "pe4r6N2lPhuz",
        "colab_type": "code",
        "colab": {}
      },
      "source": [
        "numeric_features = []\n",
        "categorical_features = []"
      ],
      "execution_count": 13,
      "outputs": []
    },
    {
      "cell_type": "code",
      "metadata": {
        "id": "DVC2D5yRPhu1",
        "colab_type": "code",
        "colab": {
          "base_uri": "https://localhost:8080/",
          "height": 187
        },
        "outputId": "a17853f3-4e65-47f4-dd4b-3b3444c77ae6"
      },
      "source": [
        "for i in [\"Survived\", \"Pclass\", \"Sex\", \"Age\", \"SibSp\", \"Parch\", \"Ticket\", \"Fare\", \"Cabin\", \"Embarked\"]:\n",
        "    column = list(df[i].unique())\n",
        "    if len(column) > 10:\n",
        "        print(f\"{i} - {len(column)}\")\n",
        "    else:\n",
        "        print(f\"{i} - {len(column)} - {column}\")\n",
        "    "
      ],
      "execution_count": 14,
      "outputs": [
        {
          "output_type": "stream",
          "text": [
            "Survived - 2 - [0, 1]\n",
            "Pclass - 3 - [3, 1, 2]\n",
            "Sex - 2 - ['male', 'female']\n",
            "Age - 89\n",
            "SibSp - 7 - [1, 0, 3, 4, 2, 5, 8]\n",
            "Parch - 7 - [0, 1, 2, 5, 3, 4, 6]\n",
            "Ticket - 680\n",
            "Fare - 247\n",
            "Cabin - 147\n",
            "Embarked - 3 - ['S', 'C', 'Q']\n"
          ],
          "name": "stdout"
        }
      ]
    },
    {
      "cell_type": "code",
      "metadata": {
        "id": "_sKhNG-jPhu3",
        "colab_type": "code",
        "colab": {}
      },
      "source": [
        "numeric_features.extend([\"Age\", \"SibSp\", \"Parch\", \"\"])"
      ],
      "execution_count": 15,
      "outputs": []
    },
    {
      "cell_type": "markdown",
      "metadata": {
        "id": "idWFP3q1Phu4",
        "colab_type": "text"
      },
      "source": [
        "#### For more feature columns information, read the [tensorflow-docs](https://www.tensorflow.org/tutorials/structured_data/feature_columns)"
      ]
    },
    {
      "cell_type": "code",
      "metadata": {
        "id": "CJWdCW47Phu5",
        "colab_type": "code",
        "colab": {}
      },
      "source": [
        "def get_categorical_col(col, unique_values):\n",
        "    return tf.feature_column.indicator_column(\n",
        "        tf.feature_column.categorical_column_with_vocabulary_list(col, unique_values)\n",
        "    )\n",
        "\n",
        "def get_embedding_col(col, unique_values, dim):\n",
        "    return tf.feature_column.embedding_column(\n",
        "        tf.feature_column.categorical_column_with_vocabulary_list(col, unique_values),\n",
        "        dimension = dim\n",
        "    )\n"
      ],
      "execution_count": 16,
      "outputs": []
    },
    {
      "cell_type": "code",
      "metadata": {
        "id": "OY4y-BrhPhu7",
        "colab_type": "code",
        "colab": {}
      },
      "source": [
        "feature_column = []"
      ],
      "execution_count": 17,
      "outputs": []
    },
    {
      "cell_type": "code",
      "metadata": {
        "id": "TvhTId17Phu9",
        "colab_type": "code",
        "colab": {}
      },
      "source": [
        "for i in [\"Pclass\", \"Sex\", \"Embarked\"]:\n",
        "    feature_column.append(get_categorical_col(i, df[i].unique()))"
      ],
      "execution_count": 18,
      "outputs": []
    },
    {
      "cell_type": "code",
      "metadata": {
        "id": "KG7VjajiPhu_",
        "colab_type": "code",
        "colab": {}
      },
      "source": [
        "for i in [\"Parch\", \"SibSp\"]:\n",
        "    feature_column.append(get_embedding_col(i, df[i].unique(), 3))"
      ],
      "execution_count": 19,
      "outputs": []
    },
    {
      "cell_type": "code",
      "metadata": {
        "id": "giGaxVIUPhvA",
        "colab_type": "code",
        "colab": {}
      },
      "source": [
        "cols_to_select = [\"Pclass\", \"Sex\", \"Embarked\", \"Parch\", \"SibSp\", \"target\"]"
      ],
      "execution_count": 20,
      "outputs": []
    },
    {
      "cell_type": "code",
      "metadata": {
        "id": "M3P63Z74PhvC",
        "colab_type": "code",
        "colab": {
          "base_uri": "https://localhost:8080/",
          "height": 122
        },
        "outputId": "922f4002-258d-4edd-a341-c7ca361931be"
      },
      "source": [
        "feature_column"
      ],
      "execution_count": 21,
      "outputs": [
        {
          "output_type": "execute_result",
          "data": {
            "text/plain": [
              "[IndicatorColumn(categorical_column=VocabularyListCategoricalColumn(key='Pclass', vocabulary_list=(3, 1, 2), dtype=tf.int64, default_value=-1, num_oov_buckets=0)),\n",
              " IndicatorColumn(categorical_column=VocabularyListCategoricalColumn(key='Sex', vocabulary_list=('male', 'female'), dtype=tf.string, default_value=-1, num_oov_buckets=0)),\n",
              " IndicatorColumn(categorical_column=VocabularyListCategoricalColumn(key='Embarked', vocabulary_list=('S', 'C', 'Q'), dtype=tf.string, default_value=-1, num_oov_buckets=0)),\n",
              " EmbeddingColumn(categorical_column=VocabularyListCategoricalColumn(key='Parch', vocabulary_list=(0, 1, 2, 5, 3, 4, 6), dtype=tf.int64, default_value=-1, num_oov_buckets=0), dimension=3, combiner='mean', initializer=<tensorflow.python.ops.init_ops.TruncatedNormal object at 0x7ff9247d8080>, ckpt_to_load_from=None, tensor_name_in_ckpt=None, max_norm=None, trainable=True, use_safe_embedding_lookup=True),\n",
              " EmbeddingColumn(categorical_column=VocabularyListCategoricalColumn(key='SibSp', vocabulary_list=(1, 0, 3, 4, 2, 5, 8), dtype=tf.int64, default_value=-1, num_oov_buckets=0), dimension=3, combiner='mean', initializer=<tensorflow.python.ops.init_ops.TruncatedNormal object at 0x7ff92487a828>, ckpt_to_load_from=None, tensor_name_in_ckpt=None, max_norm=None, trainable=True, use_safe_embedding_lookup=True)]"
            ]
          },
          "metadata": {
            "tags": []
          },
          "execution_count": 21
        }
      ]
    },
    {
      "cell_type": "code",
      "metadata": {
        "id": "qvQVy4-OPhvF",
        "colab_type": "code",
        "colab": {}
      },
      "source": [
        "feature_layer = tf.keras.layers.DenseFeatures(feature_column)"
      ],
      "execution_count": 22,
      "outputs": []
    },
    {
      "cell_type": "code",
      "metadata": {
        "id": "H6ukuPFXPhvG",
        "colab_type": "code",
        "colab": {}
      },
      "source": [
        "df['target'] = df['Survived']"
      ],
      "execution_count": 23,
      "outputs": []
    },
    {
      "cell_type": "code",
      "metadata": {
        "id": "W9nKR8wdPhvI",
        "colab_type": "code",
        "colab": {
          "base_uri": "https://localhost:8080/",
          "height": 68
        },
        "outputId": "62b2f830-e9cb-4398-bdcd-20b41a5201a5"
      },
      "source": [
        "train, test = train_test_split(df[cols_to_select], test_size=0.2)\n",
        "train, val = train_test_split(train, test_size=0.2)\n",
        "print(len(train), 'train examples')\n",
        "print(len(val), 'validation examples')\n",
        "print(len(test), 'test examples')"
      ],
      "execution_count": 24,
      "outputs": [
        {
          "output_type": "stream",
          "text": [
            "568 train examples\n",
            "143 validation examples\n",
            "178 test examples\n"
          ],
          "name": "stdout"
        }
      ]
    },
    {
      "cell_type": "code",
      "metadata": {
        "id": "we6mQwxrPhvK",
        "colab_type": "code",
        "colab": {}
      },
      "source": [
        "# A utility method to create a tf.data dataset from a Pandas Dataframe\n",
        "def df_to_dataset(dataframe, shuffle=True, batch_size=64):\n",
        "    dataframe = dataframe.copy()\n",
        "    labels = dataframe.pop('target')\n",
        "    ds = tf.data.Dataset.from_tensor_slices((dict(dataframe), labels))\n",
        "    if shuffle:\n",
        "        ds = ds.shuffle(buffer_size=len(dataframe))\n",
        "    ds = ds.batch(batch_size)\n",
        "    return ds"
      ],
      "execution_count": 25,
      "outputs": []
    },
    {
      "cell_type": "code",
      "metadata": {
        "id": "NZfdQpLmPhvM",
        "colab_type": "code",
        "colab": {}
      },
      "source": [
        "batch_size = 5 # A small batch sized is used for demonstration purposes\n",
        "train_ds = df_to_dataset(train, batch_size=batch_size)\n",
        "val_ds = df_to_dataset(val, shuffle=False, batch_size=batch_size)\n",
        "test_ds = df_to_dataset(test, shuffle=False, batch_size=batch_size)"
      ],
      "execution_count": 26,
      "outputs": []
    },
    {
      "cell_type": "code",
      "metadata": {
        "id": "jLsBVfipPhvO",
        "colab_type": "code",
        "colab": {
          "base_uri": "https://localhost:8080/",
          "height": 1000
        },
        "outputId": "1440ab98-5ede-440a-db75-6b1eb15ad15b"
      },
      "source": [
        "model = tf.keras.Sequential([\n",
        "    feature_layer,\n",
        "    layers.Dense(128, activation='relu'),\n",
        "    layers.Dropout(.5),\n",
        "    layers.Dense(256, activation='relu'),\n",
        "    layers.Dropout(.3),\n",
        "    layers.Dense(2, activation='softmax')\n",
        "])\n",
        "\n",
        "model.compile(optimizer='adam',\n",
        "              loss=tf.keras.losses.SparseCategoricalCrossentropy(),\n",
        "              metrics=['accuracy'])\n",
        "\n",
        "model.fit(train_ds,\n",
        "          validation_data=val_ds,\n",
        "          epochs=50)"
      ],
      "execution_count": 27,
      "outputs": [
        {
          "output_type": "stream",
          "text": [
            "Epoch 1/50\n",
            "WARNING:tensorflow:Layers in a Sequential model should only have a single input tensor, but we receive a <class 'dict'> input: {'Pclass': <tf.Tensor 'ExpandDims_2:0' shape=(None, 1) dtype=int64>, 'Sex': <tf.Tensor 'ExpandDims_3:0' shape=(None, 1) dtype=string>, 'Embarked': <tf.Tensor 'ExpandDims:0' shape=(None, 1) dtype=string>, 'Parch': <tf.Tensor 'ExpandDims_1:0' shape=(None, 1) dtype=int64>, 'SibSp': <tf.Tensor 'ExpandDims_4:0' shape=(None, 1) dtype=int64>}\n",
            "Consider rewriting this model with the Functional API.\n",
            "WARNING:tensorflow:Layers in a Sequential model should only have a single input tensor, but we receive a <class 'dict'> input: {'Pclass': <tf.Tensor 'ExpandDims_2:0' shape=(None, 1) dtype=int64>, 'Sex': <tf.Tensor 'ExpandDims_3:0' shape=(None, 1) dtype=string>, 'Embarked': <tf.Tensor 'ExpandDims:0' shape=(None, 1) dtype=string>, 'Parch': <tf.Tensor 'ExpandDims_1:0' shape=(None, 1) dtype=int64>, 'SibSp': <tf.Tensor 'ExpandDims_4:0' shape=(None, 1) dtype=int64>}\n",
            "Consider rewriting this model with the Functional API.\n",
            "110/114 [===========================>..] - ETA: 0s - loss: 0.5348 - accuracy: 0.7382WARNING:tensorflow:Layers in a Sequential model should only have a single input tensor, but we receive a <class 'dict'> input: {'Pclass': <tf.Tensor 'ExpandDims_2:0' shape=(None, 1) dtype=int64>, 'Sex': <tf.Tensor 'ExpandDims_3:0' shape=(None, 1) dtype=string>, 'Embarked': <tf.Tensor 'ExpandDims:0' shape=(None, 1) dtype=string>, 'Parch': <tf.Tensor 'ExpandDims_1:0' shape=(None, 1) dtype=int64>, 'SibSp': <tf.Tensor 'ExpandDims_4:0' shape=(None, 1) dtype=int64>}\n",
            "Consider rewriting this model with the Functional API.\n",
            "114/114 [==============================] - 1s 9ms/step - loss: 0.5325 - accuracy: 0.7394 - val_loss: 0.5120 - val_accuracy: 0.7552\n",
            "Epoch 2/50\n",
            "114/114 [==============================] - 1s 7ms/step - loss: 0.4460 - accuracy: 0.7940 - val_loss: 0.4707 - val_accuracy: 0.7762\n",
            "Epoch 3/50\n",
            "114/114 [==============================] - 1s 7ms/step - loss: 0.4399 - accuracy: 0.7905 - val_loss: 0.4674 - val_accuracy: 0.7832\n",
            "Epoch 4/50\n",
            "114/114 [==============================] - 1s 7ms/step - loss: 0.4325 - accuracy: 0.7940 - val_loss: 0.4679 - val_accuracy: 0.7972\n",
            "Epoch 5/50\n",
            "114/114 [==============================] - 1s 7ms/step - loss: 0.4032 - accuracy: 0.8275 - val_loss: 0.4830 - val_accuracy: 0.7273\n",
            "Epoch 6/50\n",
            "114/114 [==============================] - 1s 7ms/step - loss: 0.4279 - accuracy: 0.8187 - val_loss: 0.4697 - val_accuracy: 0.8112\n",
            "Epoch 7/50\n",
            "114/114 [==============================] - 1s 6ms/step - loss: 0.4088 - accuracy: 0.8116 - val_loss: 0.4681 - val_accuracy: 0.7483\n",
            "Epoch 8/50\n",
            "114/114 [==============================] - 1s 7ms/step - loss: 0.4056 - accuracy: 0.8081 - val_loss: 0.4603 - val_accuracy: 0.7902\n",
            "Epoch 9/50\n",
            "114/114 [==============================] - 1s 7ms/step - loss: 0.4064 - accuracy: 0.8310 - val_loss: 0.4579 - val_accuracy: 0.8042\n",
            "Epoch 10/50\n",
            "114/114 [==============================] - 1s 6ms/step - loss: 0.3981 - accuracy: 0.8292 - val_loss: 0.4583 - val_accuracy: 0.7832\n",
            "Epoch 11/50\n",
            "114/114 [==============================] - 1s 7ms/step - loss: 0.4078 - accuracy: 0.8257 - val_loss: 0.4669 - val_accuracy: 0.7692\n",
            "Epoch 12/50\n",
            "114/114 [==============================] - 1s 6ms/step - loss: 0.4011 - accuracy: 0.8257 - val_loss: 0.4648 - val_accuracy: 0.7552\n",
            "Epoch 13/50\n",
            "114/114 [==============================] - 1s 7ms/step - loss: 0.4071 - accuracy: 0.8310 - val_loss: 0.4694 - val_accuracy: 0.7832\n",
            "Epoch 14/50\n",
            "114/114 [==============================] - 1s 6ms/step - loss: 0.4003 - accuracy: 0.8275 - val_loss: 0.4644 - val_accuracy: 0.7622\n",
            "Epoch 15/50\n",
            "114/114 [==============================] - 1s 6ms/step - loss: 0.3885 - accuracy: 0.8327 - val_loss: 0.4681 - val_accuracy: 0.7902\n",
            "Epoch 16/50\n",
            "114/114 [==============================] - 1s 6ms/step - loss: 0.3763 - accuracy: 0.8451 - val_loss: 0.4793 - val_accuracy: 0.7692\n",
            "Epoch 17/50\n",
            "114/114 [==============================] - 1s 7ms/step - loss: 0.3902 - accuracy: 0.8169 - val_loss: 0.4677 - val_accuracy: 0.7413\n",
            "Epoch 18/50\n",
            "114/114 [==============================] - 1s 6ms/step - loss: 0.3815 - accuracy: 0.8433 - val_loss: 0.4774 - val_accuracy: 0.7692\n",
            "Epoch 19/50\n",
            "114/114 [==============================] - 1s 6ms/step - loss: 0.3824 - accuracy: 0.8275 - val_loss: 0.4877 - val_accuracy: 0.7133\n",
            "Epoch 20/50\n",
            "114/114 [==============================] - 1s 7ms/step - loss: 0.3932 - accuracy: 0.8257 - val_loss: 0.4554 - val_accuracy: 0.7692\n",
            "Epoch 21/50\n",
            "114/114 [==============================] - 1s 7ms/step - loss: 0.3928 - accuracy: 0.8363 - val_loss: 0.4550 - val_accuracy: 0.7692\n",
            "Epoch 22/50\n",
            "114/114 [==============================] - 1s 7ms/step - loss: 0.3859 - accuracy: 0.8204 - val_loss: 0.4621 - val_accuracy: 0.7692\n",
            "Epoch 23/50\n",
            "114/114 [==============================] - 1s 7ms/step - loss: 0.3953 - accuracy: 0.8239 - val_loss: 0.4606 - val_accuracy: 0.7413\n",
            "Epoch 24/50\n",
            "114/114 [==============================] - 1s 7ms/step - loss: 0.3830 - accuracy: 0.8363 - val_loss: 0.4553 - val_accuracy: 0.7622\n",
            "Epoch 25/50\n",
            "114/114 [==============================] - 1s 7ms/step - loss: 0.3808 - accuracy: 0.8345 - val_loss: 0.4591 - val_accuracy: 0.7622\n",
            "Epoch 26/50\n",
            "114/114 [==============================] - 1s 7ms/step - loss: 0.3762 - accuracy: 0.8310 - val_loss: 0.4521 - val_accuracy: 0.7622\n",
            "Epoch 27/50\n",
            "114/114 [==============================] - 1s 6ms/step - loss: 0.3871 - accuracy: 0.8345 - val_loss: 0.4486 - val_accuracy: 0.7692\n",
            "Epoch 28/50\n",
            "114/114 [==============================] - 1s 7ms/step - loss: 0.3829 - accuracy: 0.8415 - val_loss: 0.4559 - val_accuracy: 0.7622\n",
            "Epoch 29/50\n",
            "114/114 [==============================] - 1s 7ms/step - loss: 0.3842 - accuracy: 0.8468 - val_loss: 0.4560 - val_accuracy: 0.7622\n",
            "Epoch 30/50\n",
            "114/114 [==============================] - 1s 7ms/step - loss: 0.3788 - accuracy: 0.8275 - val_loss: 0.4612 - val_accuracy: 0.7762\n",
            "Epoch 31/50\n",
            "114/114 [==============================] - 1s 7ms/step - loss: 0.3663 - accuracy: 0.8380 - val_loss: 0.4656 - val_accuracy: 0.7762\n",
            "Epoch 32/50\n",
            "114/114 [==============================] - 1s 6ms/step - loss: 0.3756 - accuracy: 0.8310 - val_loss: 0.4654 - val_accuracy: 0.7552\n",
            "Epoch 33/50\n",
            "114/114 [==============================] - 1s 7ms/step - loss: 0.3795 - accuracy: 0.8363 - val_loss: 0.4662 - val_accuracy: 0.7622\n",
            "Epoch 34/50\n",
            "114/114 [==============================] - 1s 7ms/step - loss: 0.3802 - accuracy: 0.8398 - val_loss: 0.4681 - val_accuracy: 0.7552\n",
            "Epoch 35/50\n",
            "114/114 [==============================] - 1s 7ms/step - loss: 0.3675 - accuracy: 0.8398 - val_loss: 0.4639 - val_accuracy: 0.7413\n",
            "Epoch 36/50\n",
            "114/114 [==============================] - 1s 7ms/step - loss: 0.3714 - accuracy: 0.8380 - val_loss: 0.4700 - val_accuracy: 0.7413\n",
            "Epoch 37/50\n",
            "114/114 [==============================] - 1s 7ms/step - loss: 0.3810 - accuracy: 0.8204 - val_loss: 0.4724 - val_accuracy: 0.7552\n",
            "Epoch 38/50\n",
            "114/114 [==============================] - 1s 7ms/step - loss: 0.3567 - accuracy: 0.8415 - val_loss: 0.4724 - val_accuracy: 0.7692\n",
            "Epoch 39/50\n",
            "114/114 [==============================] - 1s 7ms/step - loss: 0.3650 - accuracy: 0.8310 - val_loss: 0.4698 - val_accuracy: 0.7622\n",
            "Epoch 40/50\n",
            "114/114 [==============================] - 1s 7ms/step - loss: 0.3698 - accuracy: 0.8415 - val_loss: 0.4693 - val_accuracy: 0.7622\n",
            "Epoch 41/50\n",
            "114/114 [==============================] - 1s 7ms/step - loss: 0.3675 - accuracy: 0.8345 - val_loss: 0.4912 - val_accuracy: 0.7692\n",
            "Epoch 42/50\n",
            "114/114 [==============================] - 1s 7ms/step - loss: 0.3699 - accuracy: 0.8363 - val_loss: 0.4773 - val_accuracy: 0.7622\n",
            "Epoch 43/50\n",
            "114/114 [==============================] - 1s 7ms/step - loss: 0.3745 - accuracy: 0.8433 - val_loss: 0.4731 - val_accuracy: 0.7552\n",
            "Epoch 44/50\n",
            "114/114 [==============================] - 1s 7ms/step - loss: 0.3739 - accuracy: 0.8345 - val_loss: 0.4844 - val_accuracy: 0.7622\n",
            "Epoch 45/50\n",
            "114/114 [==============================] - 1s 7ms/step - loss: 0.3708 - accuracy: 0.8380 - val_loss: 0.4820 - val_accuracy: 0.7622\n",
            "Epoch 46/50\n",
            "114/114 [==============================] - 1s 7ms/step - loss: 0.3555 - accuracy: 0.8310 - val_loss: 0.4897 - val_accuracy: 0.7692\n",
            "Epoch 47/50\n",
            "114/114 [==============================] - 1s 7ms/step - loss: 0.3663 - accuracy: 0.8327 - val_loss: 0.4701 - val_accuracy: 0.7622\n",
            "Epoch 48/50\n",
            "114/114 [==============================] - 1s 7ms/step - loss: 0.3717 - accuracy: 0.8327 - val_loss: 0.4689 - val_accuracy: 0.7343\n",
            "Epoch 49/50\n",
            "114/114 [==============================] - 1s 7ms/step - loss: 0.3592 - accuracy: 0.8257 - val_loss: 0.4702 - val_accuracy: 0.7413\n",
            "Epoch 50/50\n",
            "114/114 [==============================] - 1s 7ms/step - loss: 0.3427 - accuracy: 0.8433 - val_loss: 0.4820 - val_accuracy: 0.7552\n"
          ],
          "name": "stdout"
        },
        {
          "output_type": "execute_result",
          "data": {
            "text/plain": [
              "<tensorflow.python.keras.callbacks.History at 0x7ff9105066d8>"
            ]
          },
          "metadata": {
            "tags": []
          },
          "execution_count": 27
        }
      ]
    },
    {
      "cell_type": "code",
      "metadata": {
        "id": "U5fV8Wo_PhvQ",
        "colab_type": "code",
        "colab": {
          "base_uri": "https://localhost:8080/",
          "height": 51
        },
        "outputId": "394f0d6e-39f5-43c6-c5ff-f4810945b443"
      },
      "source": [
        "loss, accuracy = model.evaluate(test_ds)\n",
        "print(\"Accuracy\", accuracy)"
      ],
      "execution_count": 28,
      "outputs": [
        {
          "output_type": "stream",
          "text": [
            "36/36 [==============================] - 0s 4ms/step - loss: 0.6244 - accuracy: 0.7416\n",
            "Accuracy 0.7415730357170105\n"
          ],
          "name": "stdout"
        }
      ]
    },
    {
      "cell_type": "code",
      "metadata": {
        "id": "m-me9krcPhvR",
        "colab_type": "code",
        "colab": {}
      },
      "source": [
        ""
      ],
      "execution_count": null,
      "outputs": []
    },
    {
      "cell_type": "code",
      "metadata": {
        "id": "jNCst_6ZPhvT",
        "colab_type": "code",
        "colab": {}
      },
      "source": [
        ""
      ],
      "execution_count": null,
      "outputs": []
    }
  ]
}